{
 "nbformat": 4,
 "nbformat_minor": 0,
 "metadata": {
  "colab": {
   "name": "OpponencyCifarGaborResNet34.ipynb",
   "provenance": [],
   "authorship_tag": "ABX9TyNNzrfEMhsJSeW+XZLbHhov"
  },
  "kernelspec": {
   "name": "python3",
   "display_name": "Python 3"
  },
  "language_info": {
   "name": "python"
  },
  "accelerator": "GPU",
  "gpuClass": "standard"
 },
 "cells": [
  {
   "cell_type": "code",
   "execution_count": 1,
   "metadata": {
    "colab": {
     "base_uri": "https://localhost:8080/"
    },
    "id": "lQXnSdAcuT0m",
    "executionInfo": {
     "status": "ok",
     "timestamp": 1659971451239,
     "user_tz": -60,
     "elapsed": 15052,
     "user": {
      "displayName": "Zhengyang Jin",
      "userId": "16985034956335242610"
     }
    },
    "outputId": "35fe4792-3eec-44c4-89b0-ee4a83fecdd2",
    "pycharm": {
     "name": "#%%\n"
    }
   },
   "outputs": [
    {
     "output_type": "stream",
     "name": "stdout",
     "text": [
      "Mounted at /content/drive\n"
     ]
    }
   ],
   "source": [
    "from google.colab import drive\n",
    "drive.mount('/content/drive')\n",
    "\n",
    "import os\n",
    "os.chdir('/content/drive/My Drive/Final2022/bionet')"
   ]
  },
  {
   "cell_type": "code",
   "source": [
    "import torch\n",
    "import torch.nn as nn\n",
    "import torch.nn.functional as F\n",
    "import torchvision\n",
    "import torchvision.datasets as datasets\n",
    "import torchvision.transforms as transforms\n",
    "from torchvision.io import read_image\n",
    "from torch.utils.data import Dataset\n",
    "from torch.utils.data import DataLoader\n",
    "import matplotlib.pyplot as plt\n",
    "from PIL import Image\n",
    "import cv2\n",
    "from torchsummary import summary\n",
    "import numpy as np\n",
    "import math\n",
    "import os\n",
    "import psutil\n",
    "print(torch.__version__)\n",
    "print(torch.cuda.get_device_name(0))"
   ],
   "metadata": {
    "colab": {
     "base_uri": "https://localhost:8080/"
    },
    "id": "skVPjTMSueIJ",
    "executionInfo": {
     "status": "ok",
     "timestamp": 1659971455141,
     "user_tz": -60,
     "elapsed": 3905,
     "user": {
      "displayName": "Zhengyang Jin",
      "userId": "16985034956335242610"
     }
    },
    "outputId": "b61a5f8b-fc76-4de4-ff3b-51d3199b4b86",
    "pycharm": {
     "name": "#%%\n"
    }
   },
   "execution_count": 2,
   "outputs": [
    {
     "output_type": "stream",
     "name": "stdout",
     "text": [
      "1.12.0+cu113\n",
      "Tesla V100-SXM2-16GB\n"
     ]
    }
   ]
  },
  {
   "cell_type": "code",
   "source": [
    "\n",
    "transform = transforms.Compose([\n",
    "#     transforms.CenterCrop(224),\n",
    "  \n",
    "    transforms.RandomCrop(32,padding=4), # 数据增广\n",
    "    transforms.RandomHorizontalFlip(),  # 数据增广\n",
    "    transforms.ToTensor(),\n",
    "    transforms.Normalize((0.5, 0.5, 0.5), (0.5, 0.5, 0.5))\n",
    "]) \n",
    "Batch_Size = 256\n",
    "trainset = datasets.CIFAR10(root='../../data/', train=True,download=False, transform=transform)\n",
    "testset = datasets.CIFAR10(root='../../data/',train=False,download=False,transform=transform)\n",
    "trainloader = torch.utils.data.DataLoader(trainset, batch_size=Batch_Size,shuffle=True, num_workers=4)\n",
    "testloader = torch.utils.data.DataLoader(testset, batch_size=Batch_Size,shuffle=True, num_workers=4)\n",
    "classes = ('plane', 'car', 'bird', 'cat','deer', 'dog', 'frog', 'horse', 'ship', 'truck')"
   ],
   "metadata": {
    "colab": {
     "base_uri": "https://localhost:8080/"
    },
    "id": "ZVPF1XeXueFh",
    "executionInfo": {
     "status": "ok",
     "timestamp": 1659971463991,
     "user_tz": -60,
     "elapsed": 8852,
     "user": {
      "displayName": "Zhengyang Jin",
      "userId": "16985034956335242610"
     }
    },
    "outputId": "e23fcfc3-9ffe-42f3-a938-0a28712421ac",
    "pycharm": {
     "name": "#%%\n"
    }
   },
   "execution_count": 3,
   "outputs": [
    {
     "output_type": "stream",
     "name": "stderr",
     "text": [
      "/usr/local/lib/python3.7/dist-packages/torch/utils/data/dataloader.py:560: UserWarning: This DataLoader will create 4 worker processes in total. Our suggested max number of worker in current system is 2, which is smaller than what this DataLoader is going to create. Please be aware that excessive worker creation might get DataLoader running slow or even freeze, lower the worker number to avoid potential slowness/freeze if necessary.\n",
      "  cpuset_checked))\n"
     ]
    }
   ]
  },
  {
   "cell_type": "code",
   "source": [
    "class BasicBlock(nn.Module):\n",
    "    \"\"\"\n",
    "    对于浅层网络，如ResNet-18/34等，用基本的Block\n",
    "    基础模块没有压缩,所以expansion=1\n",
    "    \"\"\"\n",
    "    expansion = 1\n",
    "    def __init__(self, in_channels, out_channels, stride=1):\n",
    "        super(BasicBlock,self).__init__()\n",
    "        self.features = nn.Sequential(\n",
    "            nn.Conv2d(in_channels, out_channels, kernel_size=3, stride=stride, padding=1, bias=False),\n",
    "            nn.BatchNorm2d(out_channels),\n",
    "            nn.ReLU(True),\n",
    "            nn.Conv2d(out_channels,out_channels, kernel_size=3, stride=1, padding=1, bias=False),\n",
    "            nn.BatchNorm2d(out_channels)\n",
    "        )\n",
    "        # 如果输入输出维度不等，则使用1x1卷积层来改变维度\n",
    "        self.shortcut = nn.Sequential()\n",
    "        if stride != 1 or in_channels != self.expansion * out_channels:\n",
    "            self.shortcut = nn.Sequential(\n",
    "                nn.Conv2d(in_channels, self.expansion * out_channels, kernel_size=1, stride=stride, bias=False),\n",
    "                nn.BatchNorm2d(self.expansion * out_channels),\n",
    "            )\n",
    "    def forward(self, x):\n",
    "        out = self.features(x)\n",
    "#         print(out.shape)\n",
    "        out += self.shortcut(x)\n",
    "        out = torch.relu(out)\n",
    "        return out\n",
    "basic_block = BasicBlock(64, 128)\n",
    "print(basic_block)\n",
    "x = torch.randn(2, 64, 32, 32)\n",
    "y = basic_block(x)\n",
    "print(y.shape)"
   ],
   "metadata": {
    "colab": {
     "base_uri": "https://localhost:8080/"
    },
    "id": "jiNk8ksxueDK",
    "executionInfo": {
     "status": "ok",
     "timestamp": 1659971464477,
     "user_tz": -60,
     "elapsed": 488,
     "user": {
      "displayName": "Zhengyang Jin",
      "userId": "16985034956335242610"
     }
    },
    "outputId": "d9fcc0e9-d692-46ff-95ef-4452661df50e",
    "pycharm": {
     "name": "#%%\n"
    }
   },
   "execution_count": 4,
   "outputs": [
    {
     "output_type": "stream",
     "name": "stdout",
     "text": [
      "BasicBlock(\n",
      "  (features): Sequential(\n",
      "    (0): Conv2d(64, 128, kernel_size=(3, 3), stride=(1, 1), padding=(1, 1), bias=False)\n",
      "    (1): BatchNorm2d(128, eps=1e-05, momentum=0.1, affine=True, track_running_stats=True)\n",
      "    (2): ReLU(inplace=True)\n",
      "    (3): Conv2d(128, 128, kernel_size=(3, 3), stride=(1, 1), padding=(1, 1), bias=False)\n",
      "    (4): BatchNorm2d(128, eps=1e-05, momentum=0.1, affine=True, track_running_stats=True)\n",
      "  )\n",
      "  (shortcut): Sequential(\n",
      "    (0): Conv2d(64, 128, kernel_size=(1, 1), stride=(1, 1), bias=False)\n",
      "    (1): BatchNorm2d(128, eps=1e-05, momentum=0.1, affine=True, track_running_stats=True)\n",
      "  )\n",
      ")\n",
      "torch.Size([2, 128, 32, 32])\n"
     ]
    }
   ]
  },
  {
   "cell_type": "code",
   "source": [
    "class Bottleneck(nn.Module):\n",
    "    \"\"\"\n",
    "    对于深层网络，我们使用BottleNeck，论文中提出其拥有近似的计算复杂度，但能节省很多资源\n",
    "    zip_channels: 压缩后的维数，最后输出的维数是 expansion * zip_channels\n",
    "    针对ResNet50/101/152的网络结构,主要是因为第三层是第二层的4倍的关系所以expansion=4\n",
    "    \"\"\"\n",
    "    expansion = 4\n",
    "    \n",
    "    def __init__(self, in_channels, zip_channels, stride=1):\n",
    "        super(Bottleneck, self).__init__()\n",
    "        out_channels = self.expansion * zip_channels\n",
    "        self.features = nn.Sequential(\n",
    "            nn.Conv2d(in_channels, zip_channels, kernel_size=1, bias=False),\n",
    "            nn.BatchNorm2d(zip_channels),\n",
    "            nn.ReLU(inplace=True),\n",
    "            nn.Conv2d(zip_channels, zip_channels, kernel_size=3, stride=stride, padding=1, bias=False),\n",
    "            nn.BatchNorm2d(zip_channels),\n",
    "            nn.ReLU(inplace=True),\n",
    "            nn.Conv2d(zip_channels, out_channels, kernel_size=1, bias=False),\n",
    "            nn.BatchNorm2d(out_channels)\n",
    "        )\n",
    "        self.shortcut = nn.Sequential()\n",
    "        if stride != 1 or in_channels != out_channels:\n",
    "            self.shortcut = nn.Sequential(\n",
    "                nn.Conv2d(in_channels, out_channels, kernel_size=1, stride=stride, bias=False),\n",
    "                nn.BatchNorm2d(out_channels)\n",
    "            )\n",
    "            \n",
    "    def forward(self, x):\n",
    "        out = self.features(x)\n",
    "#         print(out.shape)\n",
    "        out += self.shortcut(x)\n",
    "        out = torch.relu(out)\n",
    "        return out\n",
    "bottleneck = Bottleneck(256, 128)\n",
    "print(bottleneck)\n",
    "x = torch.randn(2, 256, 32, 32)\n",
    "y = bottleneck(x)\n",
    "print(y.shape)"
   ],
   "metadata": {
    "colab": {
     "base_uri": "https://localhost:8080/"
    },
    "id": "ZNujx-jbueA1",
    "executionInfo": {
     "status": "ok",
     "timestamp": 1659971464478,
     "user_tz": -60,
     "elapsed": 6,
     "user": {
      "displayName": "Zhengyang Jin",
      "userId": "16985034956335242610"
     }
    },
    "outputId": "54624193-2df9-48e1-f27e-40fdc3ed9738",
    "pycharm": {
     "name": "#%%\n"
    }
   },
   "execution_count": 5,
   "outputs": [
    {
     "output_type": "stream",
     "name": "stdout",
     "text": [
      "Bottleneck(\n",
      "  (features): Sequential(\n",
      "    (0): Conv2d(256, 128, kernel_size=(1, 1), stride=(1, 1), bias=False)\n",
      "    (1): BatchNorm2d(128, eps=1e-05, momentum=0.1, affine=True, track_running_stats=True)\n",
      "    (2): ReLU(inplace=True)\n",
      "    (3): Conv2d(128, 128, kernel_size=(3, 3), stride=(1, 1), padding=(1, 1), bias=False)\n",
      "    (4): BatchNorm2d(128, eps=1e-05, momentum=0.1, affine=True, track_running_stats=True)\n",
      "    (5): ReLU(inplace=True)\n",
      "    (6): Conv2d(128, 512, kernel_size=(1, 1), stride=(1, 1), bias=False)\n",
      "    (7): BatchNorm2d(512, eps=1e-05, momentum=0.1, affine=True, track_running_stats=True)\n",
      "  )\n",
      "  (shortcut): Sequential(\n",
      "    (0): Conv2d(256, 512, kernel_size=(1, 1), stride=(1, 1), bias=False)\n",
      "    (1): BatchNorm2d(512, eps=1e-05, momentum=0.1, affine=True, track_running_stats=True)\n",
      "  )\n",
      ")\n",
      "torch.Size([2, 512, 32, 32])\n"
     ]
    }
   ]
  },
  {
   "cell_type": "code",
   "source": [
    "class GaborConv2d(nn.Module):\n",
    "    def __init__(\n",
    "        self,\n",
    "        in_channels,\n",
    "        out_channels,\n",
    "        kernel_size,\n",
    "        stride=1,\n",
    "        padding=0,\n",
    "        dilation=1,\n",
    "        groups=1,\n",
    "        bias=False,\n",
    "        padding_mode=\"zeros\",\n",
    "    ):\n",
    "        super().__init__()\n",
    "\n",
    "        self.is_calculated = False\n",
    "\n",
    "        self.conv_layer = nn.modules.Conv2d(\n",
    "            in_channels,\n",
    "            out_channels,\n",
    "            kernel_size,\n",
    "            stride,\n",
    "            padding,\n",
    "            dilation,\n",
    "            groups,\n",
    "            bias,\n",
    "            padding_mode,\n",
    "        )\n",
    "        self.kernel_size = self.conv_layer.kernel_size\n",
    "\n",
    "        # small addition to avoid division by zero\n",
    "        self.delta = 1e-3\n",
    "\n",
    "        # freq, theta, sigma are set up according to S. Meshgini,\n",
    "        # A. Aghagolzadeh and H. Seyedarabi, \"Face recognition using\n",
    "        # Gabor filter bank, kernel principal component analysis\n",
    "        # and support vector machine\"\n",
    "        self.freq = nn.Parameter((math.pi / 2) * math.sqrt(2) ** (-torch.randint(0, 5, (out_channels, in_channels))).type(torch.Tensor),requires_grad=True, )\n",
    "        self.theta = nn.Parameter((math.pi / 8) * torch.randint(0, 8, (out_channels, in_channels)).type(torch.Tensor),requires_grad=True,)\n",
    "        self.sigma = nn.Parameter(math.pi / self.freq, requires_grad=True)\n",
    "        self.psi = nn.Parameter(math.pi * torch.rand(out_channels, in_channels), requires_grad=True)\n",
    "        self.x0 = nn.Parameter(torch.ceil(torch.Tensor([self.kernel_size[0] / 2]))[0], requires_grad=False)\n",
    "        self.y0 = nn.Parameter(torch.ceil(torch.Tensor([self.kernel_size[1] / 2]))[0], requires_grad=False)\n",
    "        self.y, self.x = torch.meshgrid(\n",
    "            [torch.linspace(-self.x0 + 1, self.x0 + 0, self.kernel_size[0]),\n",
    "             torch.linspace(-self.y0 + 1, self.y0 + 0, self.kernel_size[1]),])\n",
    "        self.y = nn.Parameter(self.y)\n",
    "        self.x = nn.Parameter(self.x)\n",
    "        self.weight = nn.Parameter(torch.empty(self.conv_layer.weight.shape, requires_grad=True),requires_grad=True,)\n",
    "\n",
    "\n",
    "        self.register_parameter(\"freq\", self.freq)\n",
    "        self.register_parameter(\"theta\", self.theta)\n",
    "        self.register_parameter(\"sigma\", self.sigma)\n",
    "        self.register_parameter(\"psi\", self.psi)\n",
    "        self.register_parameter(\"x_shape\", self.x0)\n",
    "        self.register_parameter(\"y_shape\", self.y0)\n",
    "        self.register_parameter(\"y_grid\", self.y)\n",
    "        self.register_parameter(\"x_grid\", self.x)\n",
    "        self.register_parameter(\"weight\", self.weight)\n",
    "\n",
    "    def forward(self, input_tensor):\n",
    "        if self.training:\n",
    "            self.calculate_weights()\n",
    "            #print(self.conv_layer.weight.data.shape)\n",
    "            self.is_calculated = False\n",
    "        if not self.training:\n",
    "            if not self.is_calculated:\n",
    "                self.calculate_weights()\n",
    "                self.is_calculated = True\n",
    "        return self.conv_layer(input_tensor)\n",
    "\n",
    "    def calculate_weights(self):\n",
    "        for i in range(self.conv_layer.out_channels):\n",
    "            for j in range(self.conv_layer.in_channels):\n",
    "                sigma = self.sigma[i, j].expand_as(self.y)\n",
    "                freq = self.freq[i, j].expand_as(self.y)\n",
    "                theta = self.theta[i, j].expand_as(self.y)\n",
    "                psi = self.psi[i, j].expand_as(self.y)\n",
    "\n",
    "                rotx = self.x * torch.cos(theta) + self.y * torch.sin(theta)\n",
    "                roty = -self.x * torch.sin(theta) + self.y * torch.cos(theta)\n",
    "\n",
    "                g = torch.exp(-0.5 * ((rotx ** 2 + roty ** 2) / (sigma + self.delta) ** 2))\n",
    "                g = g * torch.cos(freq * rotx + psi)\n",
    "                g = g / (2 * math.pi * sigma ** 2)\n",
    "                self.conv_layer.weight.data[i, j] = g\n",
    "class ResNet(nn.Module):\n",
    "    \"\"\"\n",
    "    不同的ResNet架构都是统一的一层特征提取、四层残差，不同点在于每层残差的深度。\n",
    "    对于cifar10，feature map size的变化如下：\n",
    "    (32, 32, 3) -> [Conv2d] -> (32, 32, 64) -> [Res1] -> (32, 32, 64) -> [Res2] \n",
    " -> (16, 16, 128) -> [Res3] -> (8, 8, 256) ->[Res4] -> (4, 4, 512) -> [AvgPool] \n",
    " -> (1, 1, 512) -> [Reshape] -> (512) -> [Linear] -> (10)\n",
    "    \"\"\"\n",
    "    def __init__(self, block, num_blocks, num_classes=10, verbose = False):\n",
    "        super(ResNet, self).__init__()\n",
    "        self.verbose = verbose\n",
    "\n",
    "        self.in_channels = 64\n",
    "        self.features = nn.Sequential(\n",
    "            #nn.Conv2d(3, 64, kernel_size=3, stride=1, padding=1, bias=False),\n",
    "            GaborConv2d(in_channels=5, out_channels= self.in_channels, kernel_size=(31, 31),padding=15),\n",
    "            nn.BatchNorm2d(64),\n",
    "            nn.ReLU(inplace=True)\n",
    "        )\n",
    "        #使用_make_layer函数生成上表对应的conv2_x, conv3_x, conv4_x, conv5_x的结构\n",
    "        self.layer1 = self._make_layer(block, 64, num_blocks[0], stride=1)\n",
    "        self.layer2 = self._make_layer(block, 128, num_blocks[1], stride=2)\n",
    "        self.layer3 = self._make_layer(block, 256, num_blocks[2], stride=2)\n",
    "        self.layer4 = self._make_layer(block, 512, num_blocks[3], stride=2)\n",
    "        # cifar10经过上述结构后，到这里的feature map size是 4 x 4 x 512 x expansion\n",
    "        # 所以这里用了 4 x 4 的平均池化\n",
    "        self.avg_pool = nn.AvgPool2d(kernel_size=4)\n",
    "        self.classifer = nn.Linear(512 * block.expansion, num_classes)\n",
    "        \n",
    "    def _make_layer(self, block, out_channels, num_blocks, stride):\n",
    "        # 第一个block要进行降采样\n",
    "        strides = [stride] + [1] * (num_blocks - 1)\n",
    "        layers = []\n",
    "        for stride in strides:\n",
    "            layers.append(block(self.in_channels, out_channels, stride))\n",
    "            # 如果是Bottleneck Block的话需要对每层输入的维度进行压缩，压缩后再增加维数\n",
    "            # 所以每层的输入维数也要跟着变\n",
    "            self.in_channels = out_channels * block.expansion\n",
    "        return nn.Sequential(*layers)\n",
    "    def opponency_encoder(self,data_tensor):\n",
    "      num, channel, row, col=data_tensor.shape\n",
    "      inputshape=(num,int(channel/3),row,col)\n",
    "      r = data_tensor[:, 0, :, :]\n",
    "      g = data_tensor[:, 1, :, :]\n",
    "      b = data_tensor[:, 2, :, :]\n",
    "      I = ((r + g + b) / 3).reshape(inputshape)\n",
    "      R = torch.clamp(r - (g + b) / 2,min=0.0)\n",
    "      G = torch.clamp(g - (r - b) / 2,min=0.0)\n",
    "      B = torch.clamp(b - (r + g) / 2,min=0.0)\n",
    "      Y = torch.clamp((r + g) / 2 - (r - g) / 2 - b,min=0.0)\n",
    "      RG = torch.clamp(R - G,min=0.0).reshape(inputshape)\n",
    "      GR = torch.clamp(G - R,min=0.0).reshape(inputshape)\n",
    "      BY = torch.clamp(B - Y,min=0.0).reshape(inputshape)\n",
    "      YB = torch.clamp(Y - B,min=0.0).reshape(inputshape)\n",
    "      return torch.cat((I,RG,GR,BY,YB),1)\n",
    "\n",
    "    def forward(self, x):\n",
    "        out = self.features(self.opponency_encoder(x))\n",
    "        if self.verbose:\n",
    "            print('block 1 output: {}'.format(out.shape))\n",
    "        out = self.layer1(out)        \n",
    "        if self.verbose:\n",
    "            print('block 2 output: {}'.format(out.shape))\n",
    "        out = self.layer2(out)\n",
    "        if self.verbose:\n",
    "            print('block 3 output: {}'.format(out.shape))\n",
    "        out = self.layer3(out)\n",
    "        if self.verbose:\n",
    "            print('block 4 output: {}'.format(out.shape))\n",
    "        out = self.layer4(out)\n",
    "        if self.verbose:\n",
    "            print('block 5 output: {}'.format(out.shape))\n",
    "        out = self.avg_pool(out)\n",
    "        out = out.view(out.size(0), -1)\n",
    "        out = self.classifer(out)\n",
    "        return out"
   ],
   "metadata": {
    "id": "ypRDj7Imud-N",
    "executionInfo": {
     "status": "ok",
     "timestamp": 1659971464478,
     "user_tz": -60,
     "elapsed": 4,
     "user": {
      "displayName": "Zhengyang Jin",
      "userId": "16985034956335242610"
     }
    },
    "pycharm": {
     "name": "#%%\n"
    }
   },
   "execution_count": 6,
   "outputs": []
  },
  {
   "cell_type": "code",
   "source": [
    "def ResNet18(verbose=False):\n",
    "    return ResNet(BasicBlock, [2,2,2,2],verbose=verbose)\n",
    "\n",
    "def ResNet34(verbose=False):\n",
    "    return ResNet(BasicBlock, [3,4,6,3],verbose=verbose)\n",
    "\n",
    "def ResNet50(verbose=False):\n",
    "    return ResNet(Bottleneck, [3,4,6,3],verbose=verbose)\n",
    "\n",
    "def ResNet101(verbose=False):\n",
    "    return ResNet(Bottleneck, [3,4,23,3],verbose=verbose)\n",
    "\n",
    "def ResNet152(verbose=False):\n",
    "    return ResNet(Bottleneck, [3,8,36,3],verbose=verbose)\n",
    "    \n",
    "device = 'cuda' if torch.cuda.is_available() else 'cpu' # 判断是否用GPU\n",
    "net = ResNet34().to(device)\n",
    "'''if device == 'cuda':\n",
    "    net = nn.DataParallel(net)\n",
    "    # 当计算图不会改变的时候（每次输入形状相同，模型不改变）的情况下可以提高性能，反之则降低性能\n",
    "    torch.backends.cudnn.benchmark = True'''\n",
    "#summary(net,input_size=(3,32,32))"
   ],
   "metadata": {
    "colab": {
     "base_uri": "https://localhost:8080/",
     "height": 71
    },
    "id": "Tsqk5PmWupI-",
    "executionInfo": {
     "status": "ok",
     "timestamp": 1659971468964,
     "user_tz": -60,
     "elapsed": 4489,
     "user": {
      "displayName": "Zhengyang Jin",
      "userId": "16985034956335242610"
     }
    },
    "outputId": "61c3e30d-e7a3-497f-c107-8bdfab0d4186",
    "pycharm": {
     "name": "#%%\n"
    }
   },
   "execution_count": 7,
   "outputs": [
    {
     "output_type": "stream",
     "name": "stderr",
     "text": [
      "/usr/local/lib/python3.7/dist-packages/torch/functional.py:478: UserWarning: torch.meshgrid: in an upcoming release, it will be required to pass the indexing argument. (Triggered internally at  ../aten/src/ATen/native/TensorShape.cpp:2894.)\n",
      "  return _VF.meshgrid(tensors, **kwargs)  # type: ignore[attr-defined]\n"
     ]
    },
    {
     "output_type": "execute_result",
     "data": {
      "text/plain": [
       "\"if device == 'cuda':\\n    net = nn.DataParallel(net)\\n    # 当计算图不会改变的时候（每次输入形状相同，模型不改变）的情况下可以提高性能，反之则降低性能\\n    torch.backends.cudnn.benchmark = True\""
      ],
      "application/vnd.google.colaboratory.intrinsic+json": {
       "type": "string"
      }
     },
     "metadata": {},
     "execution_count": 7
    }
   ]
  },
  {
   "cell_type": "code",
   "source": [
    "def get_mean_and_std(dataset):\n",
    "    '''Compute the mean and std value of dataset.'''\n",
    "    dataloader = torch.utils.data.DataLoader(dataset, batch_size=1, shuffle=True, num_workers=2)\n",
    "    mean = torch.zeros(3)\n",
    "    std = torch.zeros(3)\n",
    "    print('==> Computing mean and std..')\n",
    "    for inputs, targets in dataloader:\n",
    "        for i in range(3):\n",
    "            mean[i] += inputs[:,i,:,:].mean()\n",
    "            std[i] += inputs[:,i,:,:].std()\n",
    "    mean.div_(len(dataset))\n",
    "    std.div_(len(dataset))\n",
    "    return mean, std\n",
    "\n",
    "\n",
    "def get_acc(outputs, label):\n",
    "    total = outputs.shape[0]\n",
    "    probs, pred_y = outputs.data.max(dim=1) # 得到概率\n",
    "    correct = (pred_y == label).sum().data\n",
    "    return correct / total\n",
    "\n",
    "\n",
    "class EarlyStopping:\n",
    "    \"\"\"Early stops the training if validation loss doesn't improve after a given patience.\"\"\"\n",
    "    def __init__(self, patience=7, verbose=False, delta=0):\n",
    "        \"\"\"\n",
    "        Args:\n",
    "            patience (int): How long to wait after last time validation loss improved.\n",
    "                            Default: 7\n",
    "            verbose (bool): If True, prints a message for each validation loss improvement. \n",
    "                            Default: False\n",
    "            delta (float): Minimum change in the monitored quantity to qualify as an improvement.\n",
    "                            Default: 0\n",
    "        \"\"\"\n",
    "        self.patience = patience\n",
    "        self.verbose = verbose\n",
    "        self.counter = 0\n",
    "        self.best_score = None\n",
    "        self.early_stop = False\n",
    "        self.val_loss_min = np.Inf\n",
    "        self.delta = delta\n",
    "\n",
    "    def __call__(self, val_loss, model):\n",
    "        score = -val_loss\n",
    "        if self.best_score is None:\n",
    "            self.best_score = score\n",
    "            self.save_checkpoint(val_loss, model)\n",
    "        elif score < self.best_score + self.delta:\n",
    "            self.counter += 1\n",
    "            print(f'EarlyStopping counter: {self.counter} out of {self.patience}')\n",
    "            if self.counter >= self.patience:\n",
    "                self.early_stop = True\n",
    "        else:\n",
    "            self.best_score = score\n",
    "            self.save_checkpoint(val_loss, model)\n",
    "            self.counter = 0\n",
    "\n",
    "    def save_checkpoint(self, val_loss, model):\n",
    "        '''Saves model when validation loss decrease.'''\n",
    "        if self.verbose:\n",
    "            print(f'Validation loss decreased ({self.val_loss_min:.6f} --> {val_loss:.6f}).  Saving model ...')\n",
    "        # torch.save(model.state_dict(), 'checkpoint.pt')\t# 这里会存储迄今最优模型的参数\n",
    "        self.val_loss_min = val_loss\n",
    "\n",
    "def train(net, trainloader, testloader, epoches, optimizer , criterion, scheduler , path = './model.pth', writer = None ,verbose = False):\n",
    "    device = 'cuda' if torch.cuda.is_available() else 'cpu'\n",
    "    best_acc = 0\n",
    "    train_acc_list, test_acc_list = [],[]\n",
    "    train_loss_list, test_loss_list = [],[]\n",
    "    lr_list  = []\n",
    "    for i in range(epoches):\n",
    "        start = time.time()\n",
    "        train_loss = 0\n",
    "        train_acc = 0\n",
    "        test_loss = 0\n",
    "        test_acc = 0\n",
    "        if torch.cuda.is_available():\n",
    "            net = net.to(device)\n",
    "        net.train()\n",
    "        for step,data in enumerate(trainloader,start=0):\n",
    "            im,label = data\n",
    "            im = im.to(device)\n",
    "            label = label.to(device)\n",
    "\n",
    "            optimizer.zero_grad()\n",
    "            # 释放内存\n",
    "            if hasattr(torch.cuda, 'empty_cache'):\n",
    "                torch.cuda.empty_cache()\n",
    "            # formard\n",
    "            outputs = net(im)\n",
    "            loss = criterion(outputs,label)\n",
    "            # backward\n",
    "            loss.backward()\n",
    "            # 更新参数\n",
    "            optimizer.step()\n",
    "\n",
    "            train_loss += loss.data\n",
    "            # probs, pred_y = outputs.data.max(dim=1) # 得到概率\n",
    "            # # 正确的个数\n",
    "            # train_acc += (pred_y==label).sum().item()\n",
    "            # # 总数\n",
    "            # total += label.size(0)\n",
    "            train_acc += get_acc(outputs,label)\n",
    "            # 打印下载进度\n",
    "            rate = (step + 1) / len(trainloader)\n",
    "            a = \"*\" * int(rate * 50)\n",
    "            b = \".\" * (50 - int(rate * 50))\n",
    "            print('\\r train {:3d}|{:3d} {:^3.0f}%  [{}->{}] '.format(i+1,epoches,int(rate*100),a,b),end='')\n",
    "        train_loss = train_loss / len(trainloader)\n",
    "        train_acc = train_acc * 100 / len(trainloader)\n",
    "        if verbose:\n",
    "            train_acc_list.append(train_acc.item())\n",
    "            train_loss_list.append(train_loss.item())\n",
    "    #     print('train_loss:{:.6f} train_acc:{:3.2f}%' .format(train_loss ,train_acc),end=' ')  \n",
    "        # 记录学习率\n",
    "        lr = optimizer.param_groups[0]['lr']\n",
    "        if verbose:\n",
    "            lr_list.append(lr)\n",
    "        # 更新学习率\n",
    "        scheduler.step(train_loss)\n",
    "        if testloader is not None:\n",
    "            net.eval()\n",
    "            with torch.no_grad():\n",
    "                for step,data in enumerate(testloader,start=0):\n",
    "                    im,label = data\n",
    "                    im = im.to(device)\n",
    "                    label = label.to(device)\n",
    "                    # 释放内存\n",
    "                    if hasattr(torch.cuda, 'empty_cache'):\n",
    "                        torch.cuda.empty_cache()\n",
    "                    outputs = net(im)\n",
    "                    loss = criterion(outputs,label)\n",
    "                    test_loss += loss.data\n",
    "                    # probs, pred_y = outputs.data.max(dim=1) # 得到概率\n",
    "                    # test_acc += (pred_y==label).sum().item()\n",
    "                    # total += label.size(0)\n",
    "                    test_acc += get_acc(outputs,label)\n",
    "                    rate = (step + 1) / len(testloader)\n",
    "                    a = \"*\" * int(rate * 50)\n",
    "                    b = \".\" * (50 - int(rate * 50))\n",
    "                    print('\\r test  {:3d}|{:3d} {:^3.0f}%  [{}->{}] '.format(i+1,epoches,int(rate*100),a,b),end='')\n",
    "            test_loss = test_loss / len(testloader)\n",
    "            test_acc = test_acc * 100 / len(testloader)\n",
    "            if verbose:\n",
    "                test_loss_list.append(test_loss.item())\n",
    "                test_acc_list.append(test_acc.item())\n",
    "            end = time.time()\n",
    "            print(\n",
    "                '\\rEpoch [{:>3d}/{:>3d}]  Train Loss:{:>.6f}  Train Acc:{:>3.2f}% Test Loss:{:>.6f}  Test Acc:{:>3.2f}%  Learning Rate:{:>.6f}'.format(\n",
    "                    i + 1, epoches, train_loss, train_acc, test_loss, test_acc,lr), end='')\n",
    "        else:\n",
    "            end = time.time()\n",
    "            print('\\rEpoch [{:>3d}/{:>3d}]  Train Loss:{:>.6f}  Train Acc:{:>3.2f}%  Learning Rate:{:>.6f}'.format(i+1,epoches,train_loss,train_acc,lr),end = '')\n",
    "        time_ = int(end - start)\n",
    "        h = time_ / 3600\n",
    "        m = time_ % 3600 /60\n",
    "        s = time_ % 60\n",
    "        time_str = \"\\tTime %02d:%02d\" % ( m, s)\n",
    "        # ====================== 使用 tensorboard ==================\n",
    "        if writer is not None:\n",
    "            writer.add_scalars('Loss', {'train': train_loss,\n",
    "                                    'valid': test_loss}, i+1)\n",
    "            writer.add_scalars('Acc', {'train': train_acc ,\n",
    "                                   'valid': test_acc}, i+1)\n",
    "            writer.add_scalars('Learning Rate',lr,i+1)\n",
    "        # =========================================================\n",
    "        # 打印所用时间\n",
    "        print(time_str)\n",
    "        # 如果取得更好的准确率，就保存模型\n",
    "        if test_acc > best_acc:\n",
    "            torch.save(net,path)\n",
    "            best_acc = test_acc\n",
    "    Acc = {}\n",
    "    Loss = {}\n",
    "    Acc['train_acc'] = train_acc_list\n",
    "    Acc['test_acc'] = test_acc_list\n",
    "    Loss['train_loss'] = train_loss_list\n",
    "    Loss['test_loss'] = test_loss_list\n",
    "    Lr = lr_list\n",
    "    return Acc, Loss, Lr\n",
    "def plot_history(epoches, Acc, Loss, lr):\n",
    "    plt.rcParams['figure.figsize'] = (10.0, 8.0)  # set default size of plots\n",
    "    plt.rcParams['image.interpolation'] = 'nearest'\n",
    "    plt.rcParams['image.cmap'] = 'gray'\n",
    "\n",
    "    epoch_list = range(1,epoches + 1)\n",
    "    plt.plot(epoch_list, Loss['train_loss'])\n",
    "    plt.plot(epoch_list, Loss['test_loss'])\n",
    "    plt.xlabel('epoch')\n",
    "    plt.ylabel('Loss Value')\n",
    "    plt.legend(['train', 'test'], loc='upper left')\n",
    "    plt.show()\n",
    "\n",
    "    plt.plot(epoch_list, Acc['train_acc'])\n",
    "    plt.plot(epoch_list, Acc['test_acc'])\n",
    "    plt.xlabel('epoch')\n",
    "    plt.ylabel('Acc Value')\n",
    "    plt.legend(['train', 'test'], loc='upper left')\n",
    "    plt.show()\n",
    "\n",
    "    plt.plot(epoch_list, lr)\n",
    "    plt.xlabel('epoch')\n",
    "    plt.ylabel('Train LR')\n",
    "    plt.show()"
   ],
   "metadata": {
    "id": "j1sGpTlKupGw",
    "executionInfo": {
     "status": "ok",
     "timestamp": 1659971469356,
     "user_tz": -60,
     "elapsed": 395,
     "user": {
      "displayName": "Zhengyang Jin",
      "userId": "16985034956335242610"
     }
    },
    "pycharm": {
     "name": "#%%\n"
    }
   },
   "execution_count": 8,
   "outputs": []
  },
  {
   "cell_type": "code",
   "source": [
    "import torch.optim as optim\n",
    "optimizer = optim.SGD(net.parameters(), lr=1e-1, momentum=0.9, weight_decay=5e-4)\n",
    "criterion = nn.CrossEntropyLoss()\n",
    "scheduler = optim.lr_scheduler.ReduceLROnPlateau(optimizer, 'min', factor=0.5,verbose=True,patience = 5,min_lr = 0.000001) # 动态更新学习率\n",
    "# scheduler = optim.lr_scheduler.MultiStepLR(optimizer, milestones=[75, 150], gamma=0.5)\n",
    "\n",
    "import time\n",
    "epoch = 300\n",
    "\n",
    "import os\n",
    "if not os.path.exists('./model'):\n",
    "    os.makedirs('./model')\n",
    "else:\n",
    "    print('文件夹已存在')\n",
    "save_path = './model/OpponencyCifarGaborResNet34.pth'\n",
    "Acc, Loss, Lr = train(net, trainloader, testloader, epoch, optimizer, criterion, scheduler, save_path, verbose = True)"
   ],
   "metadata": {
    "colab": {
     "base_uri": "https://localhost:8080/"
    },
    "id": "XRwC87PlupEP",
    "executionInfo": {
     "status": "ok",
     "timestamp": 1659991598549,
     "user_tz": -60,
     "elapsed": 20129197,
     "user": {
      "displayName": "Zhengyang Jin",
      "userId": "16985034956335242610"
     }
    },
    "outputId": "ce664b8a-b08a-4a80-f36a-d90b28872492",
    "pycharm": {
     "name": "#%%\n"
    }
   },
   "execution_count": 9,
   "outputs": [
    {
     "output_type": "stream",
     "name": "stdout",
     "text": [
      "文件夹已存在\n"
     ]
    },
    {
     "output_type": "stream",
     "name": "stderr",
     "text": [
      "/usr/local/lib/python3.7/dist-packages/torch/utils/data/dataloader.py:560: UserWarning: This DataLoader will create 4 worker processes in total. Our suggested max number of worker in current system is 2, which is smaller than what this DataLoader is going to create. Please be aware that excessive worker creation might get DataLoader running slow or even freeze, lower the worker number to avoid potential slowness/freeze if necessary.\n",
      "  cpuset_checked))\n"
     ]
    },
    {
     "output_type": "stream",
     "name": "stdout",
     "text": [
      "Epoch [  1/300]  Train Loss:2.344116  Train Acc:21.36% Test Loss:1.886814  Test Acc:30.20%  Learning Rate:0.100000\tTime 01:13\n",
      "Epoch [  2/300]  Train Loss:1.678778  Train Acc:37.49% Test Loss:1.611767  Test Acc:41.02%  Learning Rate:0.100000\tTime 01:08\n",
      "Epoch [  3/300]  Train Loss:1.478120  Train Acc:45.55% Test Loss:1.437468  Test Acc:47.43%  Learning Rate:0.100000\tTime 01:06\n",
      "Epoch [  4/300]  Train Loss:1.322062  Train Acc:51.88% Test Loss:1.262574  Test Acc:53.86%  Learning Rate:0.100000\tTime 01:07\n",
      "Epoch [  5/300]  Train Loss:1.182622  Train Acc:57.49% Test Loss:1.261565  Test Acc:55.21%  Learning Rate:0.100000\tTime 01:06\n",
      "Epoch [  6/300]  Train Loss:1.062231  Train Acc:62.04% Test Loss:1.119155  Test Acc:60.71%  Learning Rate:0.100000\tTime 01:07\n",
      "Epoch [  7/300]  Train Loss:0.964944  Train Acc:65.75% Test Loss:1.088789  Test Acc:62.49%  Learning Rate:0.100000\tTime 01:06\n",
      "Epoch [  8/300]  Train Loss:0.880889  Train Acc:69.06% Test Loss:0.938185  Test Acc:67.69%  Learning Rate:0.100000\tTime 01:07\n",
      "Epoch [  9/300]  Train Loss:0.794210  Train Acc:72.36% Test Loss:0.934420  Test Acc:66.94%  Learning Rate:0.100000\tTime 01:06\n",
      "Epoch [ 10/300]  Train Loss:0.740798  Train Acc:74.10% Test Loss:0.791951  Test Acc:72.93%  Learning Rate:0.100000\tTime 01:07\n",
      "Epoch [ 11/300]  Train Loss:0.687415  Train Acc:76.12% Test Loss:0.782692  Test Acc:73.53%  Learning Rate:0.100000\tTime 01:06\n",
      "Epoch [ 12/300]  Train Loss:0.644359  Train Acc:77.69% Test Loss:0.848523  Test Acc:71.39%  Learning Rate:0.100000\tTime 01:07\n",
      "Epoch [ 13/300]  Train Loss:0.610457  Train Acc:78.98% Test Loss:0.903475  Test Acc:71.31%  Learning Rate:0.100000\tTime 01:06\n",
      "Epoch [ 14/300]  Train Loss:0.573344  Train Acc:80.24% Test Loss:0.697600  Test Acc:76.15%  Learning Rate:0.100000\tTime 01:07\n",
      "Epoch [ 15/300]  Train Loss:0.544576  Train Acc:80.98% Test Loss:0.669454  Test Acc:77.17%  Learning Rate:0.100000\tTime 01:06\n",
      "Epoch [ 16/300]  Train Loss:0.520963  Train Acc:82.16% Test Loss:0.665364  Test Acc:76.68%  Learning Rate:0.100000\tTime 01:07\n",
      "Epoch [ 17/300]  Train Loss:0.492527  Train Acc:83.16% Test Loss:0.722025  Test Acc:75.79%  Learning Rate:0.100000\tTime 01:06\n",
      "Epoch [ 18/300]  Train Loss:0.477049  Train Acc:83.73% Test Loss:0.754032  Test Acc:74.79%  Learning Rate:0.100000\tTime 01:06\n",
      "Epoch [ 19/300]  Train Loss:0.455473  Train Acc:84.43% Test Loss:0.741079  Test Acc:75.75%  Learning Rate:0.100000\tTime 01:06\n",
      "Epoch [ 20/300]  Train Loss:0.438749  Train Acc:84.85% Test Loss:0.656658  Test Acc:77.70%  Learning Rate:0.100000\tTime 01:06\n",
      "Epoch [ 21/300]  Train Loss:0.432190  Train Acc:85.14% Test Loss:0.573537  Test Acc:80.57%  Learning Rate:0.100000\tTime 01:07\n",
      "Epoch [ 22/300]  Train Loss:0.417410  Train Acc:85.46% Test Loss:0.562623  Test Acc:80.86%  Learning Rate:0.100000\tTime 01:06\n",
      "Epoch [ 23/300]  Train Loss:0.401480  Train Acc:86.19% Test Loss:0.805627  Test Acc:74.05%  Learning Rate:0.100000\tTime 01:07\n",
      "Epoch [ 24/300]  Train Loss:0.392970  Train Acc:86.67% Test Loss:0.677440  Test Acc:77.55%  Learning Rate:0.100000\tTime 01:05\n",
      "Epoch [ 25/300]  Train Loss:0.384090  Train Acc:86.81% Test Loss:0.703931  Test Acc:77.95%  Learning Rate:0.100000\tTime 01:07\n",
      "Epoch [ 26/300]  Train Loss:0.377810  Train Acc:86.98% Test Loss:0.628797  Test Acc:79.10%  Learning Rate:0.100000\tTime 01:06\n",
      "Epoch [ 27/300]  Train Loss:0.366729  Train Acc:87.33% Test Loss:0.770121  Test Acc:75.33%  Learning Rate:0.100000\tTime 01:06\n",
      "Epoch [ 28/300]  Train Loss:0.348101  Train Acc:87.93% Test Loss:0.687622  Test Acc:78.33%  Learning Rate:0.100000\tTime 01:05\n",
      "Epoch [ 29/300]  Train Loss:0.350672  Train Acc:87.70% Test Loss:0.845376  Test Acc:74.19%  Learning Rate:0.100000\tTime 01:06\n",
      "Epoch [ 30/300]  Train Loss:0.344788  Train Acc:88.12% Test Loss:0.508251  Test Acc:83.51%  Learning Rate:0.100000\tTime 01:05\n",
      "Epoch [ 31/300]  Train Loss:0.332621  Train Acc:88.51% Test Loss:0.671662  Test Acc:78.32%  Learning Rate:0.100000\tTime 01:07\n",
      "Epoch [ 32/300]  Train Loss:0.332104  Train Acc:88.42% Test Loss:0.746105  Test Acc:77.07%  Learning Rate:0.100000\tTime 01:05\n",
      "Epoch [ 33/300]  Train Loss:0.323127  Train Acc:88.78% Test Loss:0.519363  Test Acc:82.97%  Learning Rate:0.100000\tTime 01:06\n",
      "Epoch [ 34/300]  Train Loss:0.318334  Train Acc:89.15% Test Loss:0.555337  Test Acc:82.05%  Learning Rate:0.100000\tTime 01:05\n",
      "Epoch [ 35/300]  Train Loss:0.315691  Train Acc:89.23% Test Loss:0.982657  Test Acc:70.53%  Learning Rate:0.100000\tTime 01:06\n",
      "Epoch [ 36/300]  Train Loss:0.306160  Train Acc:89.36% Test Loss:0.630427  Test Acc:80.09%  Learning Rate:0.100000\tTime 01:05\n",
      "Epoch [ 37/300]  Train Loss:0.306013  Train Acc:89.60% Test Loss:0.503892  Test Acc:83.03%  Learning Rate:0.100000\tTime 01:07\n",
      "Epoch [ 38/300]  Train Loss:0.301156  Train Acc:89.57% Test Loss:0.938070  Test Acc:73.90%  Learning Rate:0.100000\tTime 01:06\n",
      "Epoch [ 39/300]  Train Loss:0.295884  Train Acc:89.82% Test Loss:0.669459  Test Acc:78.34%  Learning Rate:0.100000\tTime 01:07\n",
      "Epoch [ 40/300]  Train Loss:0.297455  Train Acc:89.63% Test Loss:0.544792  Test Acc:81.33%  Learning Rate:0.100000\tTime 01:05\n",
      "Epoch [ 41/300]  Train Loss:0.298365  Train Acc:89.74% Test Loss:0.549498  Test Acc:82.30%  Learning Rate:0.100000\tTime 01:07\n",
      "Epoch [ 42/300]  Train Loss:0.293093  Train Acc:89.91% Test Loss:0.566463  Test Acc:80.95%  Learning Rate:0.100000\tTime 01:06\n",
      "Epoch [ 43/300]  Train Loss:0.284309  Train Acc:90.24% Test Loss:0.525033  Test Acc:82.38%  Learning Rate:0.100000\tTime 01:06\n",
      "Epoch [ 44/300]  Train Loss:0.282748  Train Acc:90.25% Test Loss:0.785321  Test Acc:77.16%  Learning Rate:0.100000\tTime 01:07\n",
      "Epoch [ 45/300]  Train Loss:0.276981  Train Acc:90.47% Test Loss:0.599606  Test Acc:80.77%  Learning Rate:0.100000\tTime 01:06\n",
      "Epoch [ 46/300]  Train Loss:0.281034  Train Acc:90.40% Test Loss:0.551515  Test Acc:82.24%  Learning Rate:0.100000\tTime 01:07\n",
      "Epoch [ 47/300]  Train Loss:0.280152  Train Acc:90.38% Test Loss:0.537520  Test Acc:82.46%  Learning Rate:0.100000\tTime 01:06\n",
      "Epoch [ 48/300]  Train Loss:0.276039  Train Acc:90.53% Test Loss:0.524359  Test Acc:82.58%  Learning Rate:0.100000\tTime 01:07\n",
      "Epoch [ 49/300]  Train Loss:0.271013  Train Acc:90.75% Test Loss:0.558877  Test Acc:82.02%  Learning Rate:0.100000\tTime 01:06\n",
      "Epoch [ 50/300]  Train Loss:0.263518  Train Acc:90.87% Test Loss:0.585948  Test Acc:81.23%  Learning Rate:0.100000\tTime 01:07\n",
      "Epoch [ 51/300]  Train Loss:0.268205  Train Acc:90.64% Test Loss:0.623430  Test Acc:80.45%  Learning Rate:0.100000\tTime 01:06\n",
      "Epoch [ 52/300]  Train Loss:0.269624  Train Acc:90.80% Test Loss:0.559254  Test Acc:82.58%  Learning Rate:0.100000\tTime 01:07\n",
      "Epoch [ 53/300]  Train Loss:0.261478  Train Acc:90.98% Test Loss:0.616360  Test Acc:79.96%  Learning Rate:0.100000\tTime 01:06\n",
      "Epoch [ 54/300]  Train Loss:0.261712  Train Acc:90.93% Test Loss:0.679034  Test Acc:79.51%  Learning Rate:0.100000\tTime 01:07\n",
      "Epoch [ 55/300]  Train Loss:0.258427  Train Acc:91.10% Test Loss:0.459063  Test Acc:84.39%  Learning Rate:0.100000\tTime 01:06\n",
      "Epoch [ 56/300]  Train Loss:0.259556  Train Acc:91.05% Test Loss:0.658985  Test Acc:79.90%  Learning Rate:0.100000\tTime 01:07\n",
      "Epoch [ 57/300]  Train Loss:0.258365  Train Acc:91.07% Test Loss:0.458044  Test Acc:85.05%  Learning Rate:0.100000\tTime 01:06\n",
      "Epoch [ 58/300]  Train Loss:0.249877  Train Acc:91.43% Test Loss:0.530414  Test Acc:83.40%  Learning Rate:0.100000\tTime 01:07\n",
      "Epoch [ 59/300]  Train Loss:0.252830  Train Acc:91.40% Test Loss:0.533691  Test Acc:83.29%  Learning Rate:0.100000\tTime 01:06\n",
      "Epoch [ 60/300]  Train Loss:0.253107  Train Acc:91.27% Test Loss:0.602344  Test Acc:80.60%  Learning Rate:0.100000\tTime 01:07\n",
      "Epoch [ 61/300]  Train Loss:0.254804  Train Acc:91.19% Test Loss:0.447169  Test Acc:85.23%  Learning Rate:0.100000\tTime 01:06\n",
      "Epoch [ 62/300]  Train Loss:0.250710  Train Acc:91.39% Test Loss:0.622353  Test Acc:80.45%  Learning Rate:0.100000\tTime 01:07\n",
      "Epoch [ 63/300]  Train Loss:0.251915  Train Acc:91.27% Test Loss:0.773794  Test Acc:76.36%  Learning Rate:0.100000\tTime 01:06\n",
      " train  64|300 100%  [**************************************************->] Epoch 00064: reducing learning rate of group 0 to 5.0000e-02.\n",
      "Epoch [ 64/300]  Train Loss:0.253839  Train Acc:91.35% Test Loss:0.557018  Test Acc:81.93%  Learning Rate:0.100000\tTime 01:07\n",
      "Epoch [ 65/300]  Train Loss:0.145135  Train Acc:95.11% Test Loss:0.410587  Test Acc:87.73%  Learning Rate:0.050000\tTime 01:05\n",
      "Epoch [ 66/300]  Train Loss:0.116740  Train Acc:96.03% Test Loss:0.401658  Test Acc:88.38%  Learning Rate:0.050000\tTime 01:07\n",
      "Epoch [ 67/300]  Train Loss:0.122941  Train Acc:95.67% Test Loss:0.386572  Test Acc:88.39%  Learning Rate:0.050000\tTime 01:06\n",
      "Epoch [ 68/300]  Train Loss:0.125139  Train Acc:95.60% Test Loss:0.420005  Test Acc:87.42%  Learning Rate:0.050000\tTime 01:07\n",
      "Epoch [ 69/300]  Train Loss:0.121886  Train Acc:95.73% Test Loss:0.420846  Test Acc:87.62%  Learning Rate:0.050000\tTime 01:05\n",
      "Epoch [ 70/300]  Train Loss:0.130772  Train Acc:95.51% Test Loss:0.436748  Test Acc:86.78%  Learning Rate:0.050000\tTime 01:07\n",
      "Epoch [ 71/300]  Train Loss:0.127885  Train Acc:95.56% Test Loss:0.540000  Test Acc:84.10%  Learning Rate:0.050000\tTime 01:06\n",
      " train  72|300 100%  [**************************************************->] Epoch 00072: reducing learning rate of group 0 to 2.5000e-02.\n",
      "Epoch [ 72/300]  Train Loss:0.130758  Train Acc:95.43% Test Loss:0.535247  Test Acc:85.12%  Learning Rate:0.050000\tTime 01:07\n",
      "Epoch [ 73/300]  Train Loss:0.067924  Train Acc:97.71% Test Loss:0.318601  Test Acc:90.58%  Learning Rate:0.025000\tTime 01:06\n",
      "Epoch [ 74/300]  Train Loss:0.045984  Train Acc:98.43% Test Loss:0.318330  Test Acc:90.62%  Learning Rate:0.025000\tTime 01:07\n",
      "Epoch [ 75/300]  Train Loss:0.045368  Train Acc:98.50% Test Loss:0.356007  Test Acc:90.33%  Learning Rate:0.025000\tTime 01:06\n",
      "Epoch [ 76/300]  Train Loss:0.043414  Train Acc:98.60% Test Loss:0.376726  Test Acc:89.98%  Learning Rate:0.025000\tTime 01:07\n",
      "Epoch [ 77/300]  Train Loss:0.044625  Train Acc:98.56% Test Loss:0.392556  Test Acc:90.01%  Learning Rate:0.025000\tTime 01:06\n",
      "Epoch [ 78/300]  Train Loss:0.051383  Train Acc:98.31% Test Loss:0.343173  Test Acc:90.44%  Learning Rate:0.025000\tTime 01:07\n",
      "Epoch [ 79/300]  Train Loss:0.048188  Train Acc:98.39% Test Loss:0.351913  Test Acc:90.25%  Learning Rate:0.025000\tTime 01:06\n",
      "Epoch [ 80/300]  Train Loss:0.050607  Train Acc:98.26% Test Loss:0.383355  Test Acc:89.78%  Learning Rate:0.025000\tTime 01:07\n",
      "Epoch [ 81/300]  Train Loss:0.056868  Train Acc:98.05% Test Loss:0.401080  Test Acc:88.73%  Learning Rate:0.025000\tTime 01:06\n",
      " train  82|300 100%  [**************************************************->] Epoch 00082: reducing learning rate of group 0 to 1.2500e-02.\n",
      "Epoch [ 82/300]  Train Loss:0.052698  Train Acc:98.29% Test Loss:0.375544  Test Acc:89.77%  Learning Rate:0.025000\tTime 01:07\n",
      "Epoch [ 83/300]  Train Loss:0.027080  Train Acc:99.15% Test Loss:0.300680  Test Acc:92.03%  Learning Rate:0.012500\tTime 01:06\n",
      "Epoch [ 84/300]  Train Loss:0.013440  Train Acc:99.64% Test Loss:0.312600  Test Acc:92.05%  Learning Rate:0.012500\tTime 01:07\n",
      "Epoch [ 85/300]  Train Loss:0.011760  Train Acc:99.65% Test Loss:0.312730  Test Acc:92.07%  Learning Rate:0.012500\tTime 01:06\n",
      "Epoch [ 86/300]  Train Loss:0.012863  Train Acc:99.60% Test Loss:0.337154  Test Acc:91.51%  Learning Rate:0.012500\tTime 01:07\n",
      "Epoch [ 87/300]  Train Loss:0.014168  Train Acc:99.59% Test Loss:0.341591  Test Acc:91.66%  Learning Rate:0.012500\tTime 01:06\n",
      "Epoch [ 88/300]  Train Loss:0.013424  Train Acc:99.59% Test Loss:0.327895  Test Acc:91.88%  Learning Rate:0.012500\tTime 01:07\n",
      "Epoch [ 89/300]  Train Loss:0.011024  Train Acc:99.68% Test Loss:0.346776  Test Acc:91.57%  Learning Rate:0.012500\tTime 01:06\n",
      "Epoch [ 90/300]  Train Loss:0.011803  Train Acc:99.67% Test Loss:0.353017  Test Acc:91.49%  Learning Rate:0.012500\tTime 01:07\n",
      "Epoch [ 91/300]  Train Loss:0.011612  Train Acc:99.65% Test Loss:0.351431  Test Acc:91.77%  Learning Rate:0.012500\tTime 01:06\n",
      "Epoch [ 92/300]  Train Loss:0.012996  Train Acc:99.59% Test Loss:0.352884  Test Acc:91.49%  Learning Rate:0.012500\tTime 01:07\n",
      "Epoch [ 93/300]  Train Loss:0.013632  Train Acc:99.61% Test Loss:0.347205  Test Acc:91.39%  Learning Rate:0.012500\tTime 01:06\n",
      "Epoch [ 94/300]  Train Loss:0.012493  Train Acc:99.61% Test Loss:0.344229  Test Acc:92.08%  Learning Rate:0.012500\tTime 01:07\n",
      " train  95|300 100%  [**************************************************->] Epoch 00095: reducing learning rate of group 0 to 6.2500e-03.\n",
      "Epoch [ 95/300]  Train Loss:0.012088  Train Acc:99.62% Test Loss:0.371397  Test Acc:91.22%  Learning Rate:0.012500\tTime 01:06\n",
      "Epoch [ 96/300]  Train Loss:0.007642  Train Acc:99.78% Test Loss:0.314757  Test Acc:92.21%  Learning Rate:0.006250\tTime 01:07\n",
      "Epoch [ 97/300]  Train Loss:0.005072  Train Acc:99.89% Test Loss:0.331180  Test Acc:92.13%  Learning Rate:0.006250\tTime 01:06\n",
      "Epoch [ 98/300]  Train Loss:0.004648  Train Acc:99.89% Test Loss:0.329679  Test Acc:92.03%  Learning Rate:0.006250\tTime 01:07\n",
      "Epoch [ 99/300]  Train Loss:0.003296  Train Acc:99.94% Test Loss:0.324610  Test Acc:92.56%  Learning Rate:0.006250\tTime 01:06\n",
      "Epoch [100/300]  Train Loss:0.003058  Train Acc:99.94% Test Loss:0.314440  Test Acc:92.73%  Learning Rate:0.006250\tTime 01:07\n",
      "Epoch [101/300]  Train Loss:0.002548  Train Acc:99.96% Test Loss:0.328123  Test Acc:92.39%  Learning Rate:0.006250\tTime 01:07\n",
      "Epoch [102/300]  Train Loss:0.002369  Train Acc:99.95% Test Loss:0.318739  Test Acc:92.70%  Learning Rate:0.006250\tTime 01:06\n",
      "Epoch [103/300]  Train Loss:0.002455  Train Acc:99.96% Test Loss:0.321645  Test Acc:92.45%  Learning Rate:0.006250\tTime 01:07\n",
      "Epoch [104/300]  Train Loss:0.002292  Train Acc:99.97% Test Loss:0.320910  Test Acc:92.42%  Learning Rate:0.006250\tTime 01:06\n",
      "Epoch [105/300]  Train Loss:0.002248  Train Acc:99.96% Test Loss:0.322868  Test Acc:92.73%  Learning Rate:0.006250\tTime 01:07\n",
      "Epoch [106/300]  Train Loss:0.002131  Train Acc:99.97% Test Loss:0.344982  Test Acc:92.45%  Learning Rate:0.006250\tTime 01:06\n",
      "Epoch [107/300]  Train Loss:0.002310  Train Acc:99.97% Test Loss:0.326488  Test Acc:92.44%  Learning Rate:0.006250\tTime 01:07\n",
      "Epoch [108/300]  Train Loss:0.003147  Train Acc:99.94% Test Loss:0.326469  Test Acc:92.61%  Learning Rate:0.006250\tTime 01:06\n",
      "Epoch [109/300]  Train Loss:0.003198  Train Acc:99.94% Test Loss:0.334027  Test Acc:92.47%  Learning Rate:0.006250\tTime 01:07\n",
      "Epoch [110/300]  Train Loss:0.002615  Train Acc:99.95% Test Loss:0.362843  Test Acc:92.11%  Learning Rate:0.006250\tTime 01:06\n",
      "Epoch [111/300]  Train Loss:0.002771  Train Acc:99.95% Test Loss:0.325413  Test Acc:92.45%  Learning Rate:0.006250\tTime 01:07\n",
      " train 112|300 100%  [**************************************************->] Epoch 00112: reducing learning rate of group 0 to 3.1250e-03.\n",
      "Epoch [112/300]  Train Loss:0.002812  Train Acc:99.95% Test Loss:0.339479  Test Acc:92.17%  Learning Rate:0.006250\tTime 01:06\n",
      "Epoch [113/300]  Train Loss:0.002183  Train Acc:99.97% Test Loss:0.326800  Test Acc:92.85%  Learning Rate:0.003125\tTime 01:07\n",
      "Epoch [114/300]  Train Loss:0.002141  Train Acc:99.96% Test Loss:0.312952  Test Acc:93.06%  Learning Rate:0.003125\tTime 01:06\n",
      "Epoch [115/300]  Train Loss:0.001924  Train Acc:99.97% Test Loss:0.344205  Test Acc:92.42%  Learning Rate:0.003125\tTime 01:07\n",
      "Epoch [116/300]  Train Loss:0.001816  Train Acc:99.98% Test Loss:0.325322  Test Acc:92.59%  Learning Rate:0.003125\tTime 01:06\n",
      "Epoch [117/300]  Train Loss:0.001728  Train Acc:99.98% Test Loss:0.333956  Test Acc:92.44%  Learning Rate:0.003125\tTime 01:07\n",
      "Epoch [118/300]  Train Loss:0.001527  Train Acc:99.99% Test Loss:0.333227  Test Acc:92.48%  Learning Rate:0.003125\tTime 01:06\n",
      "Epoch [119/300]  Train Loss:0.001534  Train Acc:99.98% Test Loss:0.328730  Test Acc:92.63%  Learning Rate:0.003125\tTime 01:07\n",
      "Epoch [120/300]  Train Loss:0.001514  Train Acc:99.98% Test Loss:0.305772  Test Acc:93.20%  Learning Rate:0.003125\tTime 01:08\n",
      "Epoch [121/300]  Train Loss:0.001394  Train Acc:99.99% Test Loss:0.330795  Test Acc:92.76%  Learning Rate:0.003125\tTime 01:06\n",
      "Epoch [122/300]  Train Loss:0.001343  Train Acc:99.99% Test Loss:0.312178  Test Acc:93.00%  Learning Rate:0.003125\tTime 01:07\n",
      "Epoch [123/300]  Train Loss:0.001331  Train Acc:99.98% Test Loss:0.322796  Test Acc:92.92%  Learning Rate:0.003125\tTime 01:06\n",
      "Epoch [124/300]  Train Loss:0.001408  Train Acc:99.98% Test Loss:0.324709  Test Acc:92.90%  Learning Rate:0.003125\tTime 01:07\n",
      "Epoch [125/300]  Train Loss:0.001412  Train Acc:99.99% Test Loss:0.314575  Test Acc:92.95%  Learning Rate:0.003125\tTime 01:06\n",
      "Epoch [126/300]  Train Loss:0.001376  Train Acc:99.99% Test Loss:0.306806  Test Acc:92.90%  Learning Rate:0.003125\tTime 01:07\n",
      "Epoch [127/300]  Train Loss:0.001391  Train Acc:99.99% Test Loss:0.327282  Test Acc:92.96%  Learning Rate:0.003125\tTime 01:06\n",
      "Epoch [128/300]  Train Loss:0.001438  Train Acc:99.99% Test Loss:0.326936  Test Acc:92.70%  Learning Rate:0.003125\tTime 01:07\n",
      " train 129|300 100%  [**************************************************->] Epoch 00129: reducing learning rate of group 0 to 1.5625e-03.\n",
      "Epoch [129/300]  Train Loss:0.001447  Train Acc:99.99% Test Loss:0.314874  Test Acc:92.98%  Learning Rate:0.003125\tTime 01:07\n",
      "Epoch [130/300]  Train Loss:0.001305  Train Acc:99.99% Test Loss:0.317811  Test Acc:92.94%  Learning Rate:0.001563\tTime 01:07\n",
      "Epoch [131/300]  Train Loss:0.001236  Train Acc:99.99% Test Loss:0.314237  Test Acc:92.84%  Learning Rate:0.001563\tTime 01:06\n",
      "Epoch [132/300]  Train Loss:0.001198  Train Acc:99.99% Test Loss:0.313414  Test Acc:92.61%  Learning Rate:0.001563\tTime 01:08\n",
      "Epoch [133/300]  Train Loss:0.001053  Train Acc:100.00% Test Loss:0.311528  Test Acc:93.06%  Learning Rate:0.001563\tTime 01:07\n",
      "Epoch [134/300]  Train Loss:0.001348  Train Acc:99.99% Test Loss:0.328137  Test Acc:92.83%  Learning Rate:0.001563\tTime 01:07\n",
      "Epoch [135/300]  Train Loss:0.001147  Train Acc:99.99% Test Loss:0.323918  Test Acc:92.84%  Learning Rate:0.001563\tTime 01:07\n",
      "Epoch [136/300]  Train Loss:0.001146  Train Acc:99.99% Test Loss:0.307587  Test Acc:93.19%  Learning Rate:0.001563\tTime 01:06\n",
      "Epoch [137/300]  Train Loss:0.001077  Train Acc:100.00% Test Loss:0.325138  Test Acc:92.69%  Learning Rate:0.001563\tTime 01:08\n",
      "Epoch [138/300]  Train Loss:0.001142  Train Acc:100.00% Test Loss:0.319199  Test Acc:92.88%  Learning Rate:0.001563\tTime 01:07\n",
      " train 139|300 100%  [**************************************************->] Epoch 00139: reducing learning rate of group 0 to 7.8125e-04.\n",
      "Epoch [139/300]  Train Loss:0.001118  Train Acc:99.99% Test Loss:0.316387  Test Acc:92.67%  Learning Rate:0.001563\tTime 01:08\n",
      "Epoch [140/300]  Train Loss:0.000987  Train Acc:100.00% Test Loss:0.312874  Test Acc:93.20%  Learning Rate:0.000781\tTime 01:07\n",
      "Epoch [141/300]  Train Loss:0.001031  Train Acc:100.00% Test Loss:0.326034  Test Acc:92.54%  Learning Rate:0.000781\tTime 01:08\n",
      "Epoch [142/300]  Train Loss:0.001066  Train Acc:100.00% Test Loss:0.326629  Test Acc:92.70%  Learning Rate:0.000781\tTime 01:08\n",
      "Epoch [143/300]  Train Loss:0.000970  Train Acc:100.00% Test Loss:0.339323  Test Acc:92.47%  Learning Rate:0.000781\tTime 01:07\n",
      "Epoch [144/300]  Train Loss:0.001106  Train Acc:99.99% Test Loss:0.325496  Test Acc:92.88%  Learning Rate:0.000781\tTime 01:07\n",
      "Epoch [145/300]  Train Loss:0.001095  Train Acc:100.00% Test Loss:0.311033  Test Acc:93.08%  Learning Rate:0.000781\tTime 01:06\n",
      "Epoch [146/300]  Train Loss:0.001106  Train Acc:99.99% Test Loss:0.311255  Test Acc:93.05%  Learning Rate:0.000781\tTime 01:07\n",
      "Epoch [147/300]  Train Loss:0.001043  Train Acc:100.00% Test Loss:0.313293  Test Acc:93.19%  Learning Rate:0.000781\tTime 01:06\n",
      "Epoch [148/300]  Train Loss:0.001103  Train Acc:99.99% Test Loss:0.301139  Test Acc:93.11%  Learning Rate:0.000781\tTime 01:07\n",
      " train 149|300 100%  [**************************************************->] Epoch 00149: reducing learning rate of group 0 to 3.9063e-04.\n",
      "Epoch [149/300]  Train Loss:0.001086  Train Acc:100.00% Test Loss:0.344705  Test Acc:92.29%  Learning Rate:0.000781\tTime 01:06\n",
      "Epoch [150/300]  Train Loss:0.001146  Train Acc:99.99% Test Loss:0.309904  Test Acc:92.93%  Learning Rate:0.000391\tTime 01:07\n",
      "Epoch [151/300]  Train Loss:0.001044  Train Acc:99.99% Test Loss:0.315789  Test Acc:92.86%  Learning Rate:0.000391\tTime 01:07\n",
      "Epoch [152/300]  Train Loss:0.001011  Train Acc:100.00% Test Loss:0.326044  Test Acc:92.85%  Learning Rate:0.000391\tTime 01:06\n",
      "Epoch [153/300]  Train Loss:0.001075  Train Acc:99.99% Test Loss:0.316597  Test Acc:92.91%  Learning Rate:0.000391\tTime 01:07\n",
      "Epoch [154/300]  Train Loss:0.000976  Train Acc:100.00% Test Loss:0.321672  Test Acc:92.75%  Learning Rate:0.000391\tTime 01:06\n",
      " train 155|300 100%  [**************************************************->] Epoch 00155: reducing learning rate of group 0 to 1.9531e-04.\n",
      "Epoch [155/300]  Train Loss:0.000991  Train Acc:100.00% Test Loss:0.313917  Test Acc:93.02%  Learning Rate:0.000391\tTime 01:07\n",
      "Epoch [156/300]  Train Loss:0.001010  Train Acc:100.00% Test Loss:0.329868  Test Acc:92.44%  Learning Rate:0.000195\tTime 01:06\n",
      "Epoch [157/300]  Train Loss:0.001081  Train Acc:99.99% Test Loss:0.315610  Test Acc:93.16%  Learning Rate:0.000195\tTime 01:07\n",
      "Epoch [158/300]  Train Loss:0.001003  Train Acc:100.00% Test Loss:0.337729  Test Acc:92.71%  Learning Rate:0.000195\tTime 01:07\n",
      "Epoch [159/300]  Train Loss:0.001008  Train Acc:100.00% Test Loss:0.320407  Test Acc:92.90%  Learning Rate:0.000195\tTime 01:06\n",
      "Epoch [160/300]  Train Loss:0.001005  Train Acc:100.00% Test Loss:0.324345  Test Acc:92.63%  Learning Rate:0.000195\tTime 01:07\n",
      " train 161|300 100%  [**************************************************->] Epoch 00161: reducing learning rate of group 0 to 9.7656e-05.\n",
      "Epoch [161/300]  Train Loss:0.001142  Train Acc:99.99% Test Loss:0.313101  Test Acc:93.09%  Learning Rate:0.000195\tTime 01:06\n",
      "Epoch [162/300]  Train Loss:0.000931  Train Acc:100.00% Test Loss:0.310798  Test Acc:93.16%  Learning Rate:0.000098\tTime 01:07\n",
      "Epoch [163/300]  Train Loss:0.001042  Train Acc:100.00% Test Loss:0.315096  Test Acc:92.82%  Learning Rate:0.000098\tTime 01:06\n",
      "Epoch [164/300]  Train Loss:0.000958  Train Acc:100.00% Test Loss:0.314325  Test Acc:92.86%  Learning Rate:0.000098\tTime 01:07\n",
      "Epoch [165/300]  Train Loss:0.001016  Train Acc:100.00% Test Loss:0.323838  Test Acc:92.82%  Learning Rate:0.000098\tTime 01:07\n",
      "Epoch [166/300]  Train Loss:0.001040  Train Acc:100.00% Test Loss:0.321719  Test Acc:92.81%  Learning Rate:0.000098\tTime 01:06\n",
      "Epoch [167/300]  Train Loss:0.001147  Train Acc:100.00% Test Loss:0.320696  Test Acc:92.62%  Learning Rate:0.000098\tTime 01:07\n",
      " train 168|300 100%  [**************************************************->] Epoch 00168: reducing learning rate of group 0 to 4.8828e-05.\n",
      "Epoch [168/300]  Train Loss:0.001062  Train Acc:99.99% Test Loss:0.315961  Test Acc:93.10%  Learning Rate:0.000098\tTime 01:06\n",
      "Epoch [169/300]  Train Loss:0.001010  Train Acc:100.00% Test Loss:0.316601  Test Acc:93.02%  Learning Rate:0.000049\tTime 01:07\n",
      "Epoch [170/300]  Train Loss:0.000992  Train Acc:100.00% Test Loss:0.318363  Test Acc:92.88%  Learning Rate:0.000049\tTime 01:06\n",
      "Epoch [171/300]  Train Loss:0.000959  Train Acc:100.00% Test Loss:0.305119  Test Acc:93.36%  Learning Rate:0.000049\tTime 01:07\n",
      "Epoch [172/300]  Train Loss:0.001045  Train Acc:100.00% Test Loss:0.326999  Test Acc:92.81%  Learning Rate:0.000049\tTime 01:07\n",
      "Epoch [173/300]  Train Loss:0.001051  Train Acc:100.00% Test Loss:0.321590  Test Acc:92.84%  Learning Rate:0.000049\tTime 01:06\n",
      " train 174|300 100%  [**************************************************->] Epoch 00174: reducing learning rate of group 0 to 2.4414e-05.\n",
      "Epoch [174/300]  Train Loss:0.001027  Train Acc:100.00% Test Loss:0.335905  Test Acc:92.81%  Learning Rate:0.000049\tTime 01:07\n",
      "Epoch [175/300]  Train Loss:0.001116  Train Acc:99.99% Test Loss:0.308407  Test Acc:93.12%  Learning Rate:0.000024\tTime 01:06\n",
      "Epoch [176/300]  Train Loss:0.001090  Train Acc:99.99% Test Loss:0.307436  Test Acc:93.18%  Learning Rate:0.000024\tTime 01:07\n",
      "Epoch [177/300]  Train Loss:0.001104  Train Acc:99.99% Test Loss:0.322336  Test Acc:92.80%  Learning Rate:0.000024\tTime 01:06\n",
      "Epoch [178/300]  Train Loss:0.000996  Train Acc:100.00% Test Loss:0.330801  Test Acc:92.87%  Learning Rate:0.000024\tTime 01:08\n",
      "Epoch [179/300]  Train Loss:0.000983  Train Acc:100.00% Test Loss:0.313946  Test Acc:92.94%  Learning Rate:0.000024\tTime 01:07\n",
      " train 180|300 100%  [**************************************************->] Epoch 00180: reducing learning rate of group 0 to 1.2207e-05.\n",
      "Epoch [180/300]  Train Loss:0.001020  Train Acc:100.00% Test Loss:0.313203  Test Acc:93.02%  Learning Rate:0.000024\tTime 01:06\n",
      "Epoch [181/300]  Train Loss:0.000985  Train Acc:100.00% Test Loss:0.310558  Test Acc:92.89%  Learning Rate:0.000012\tTime 01:07\n",
      "Epoch [182/300]  Train Loss:0.001053  Train Acc:100.00% Test Loss:0.331334  Test Acc:92.77%  Learning Rate:0.000012\tTime 01:06\n",
      "Epoch [183/300]  Train Loss:0.001024  Train Acc:100.00% Test Loss:0.318351  Test Acc:92.81%  Learning Rate:0.000012\tTime 01:07\n",
      "Epoch [184/300]  Train Loss:0.001040  Train Acc:100.00% Test Loss:0.323410  Test Acc:93.00%  Learning Rate:0.000012\tTime 01:07\n",
      "Epoch [185/300]  Train Loss:0.001060  Train Acc:99.99% Test Loss:0.316820  Test Acc:93.05%  Learning Rate:0.000012\tTime 01:06\n",
      " train 186|300 100%  [**************************************************->] Epoch 00186: reducing learning rate of group 0 to 6.1035e-06.\n",
      "Epoch [186/300]  Train Loss:0.000955  Train Acc:100.00% Test Loss:0.321733  Test Acc:92.71%  Learning Rate:0.000012\tTime 01:07\n",
      "Epoch [187/300]  Train Loss:0.001049  Train Acc:100.00% Test Loss:0.307858  Test Acc:92.92%  Learning Rate:0.000006\tTime 01:06\n",
      "Epoch [188/300]  Train Loss:0.000969  Train Acc:100.00% Test Loss:0.321549  Test Acc:92.92%  Learning Rate:0.000006\tTime 01:07\n",
      "Epoch [189/300]  Train Loss:0.000981  Train Acc:100.00% Test Loss:0.324670  Test Acc:92.75%  Learning Rate:0.000006\tTime 01:06\n",
      "Epoch [190/300]  Train Loss:0.001045  Train Acc:100.00% Test Loss:0.314288  Test Acc:92.79%  Learning Rate:0.000006\tTime 01:07\n",
      "Epoch [191/300]  Train Loss:0.000984  Train Acc:100.00% Test Loss:0.303943  Test Acc:93.27%  Learning Rate:0.000006\tTime 01:07\n",
      " train 192|300 100%  [**************************************************->] Epoch 00192: reducing learning rate of group 0 to 3.0518e-06.\n",
      "Epoch [192/300]  Train Loss:0.001127  Train Acc:99.99% Test Loss:0.324067  Test Acc:92.97%  Learning Rate:0.000006\tTime 01:06\n",
      "Epoch [193/300]  Train Loss:0.001020  Train Acc:100.00% Test Loss:0.311293  Test Acc:93.08%  Learning Rate:0.000003\tTime 01:07\n",
      "Epoch [194/300]  Train Loss:0.000993  Train Acc:100.00% Test Loss:0.334968  Test Acc:92.88%  Learning Rate:0.000003\tTime 01:06\n",
      "Epoch [195/300]  Train Loss:0.001025  Train Acc:100.00% Test Loss:0.306635  Test Acc:92.96%  Learning Rate:0.000003\tTime 01:07\n",
      "Epoch [196/300]  Train Loss:0.001114  Train Acc:99.99% Test Loss:0.326539  Test Acc:92.92%  Learning Rate:0.000003\tTime 01:07\n",
      "Epoch [197/300]  Train Loss:0.000955  Train Acc:100.00% Test Loss:0.306496  Test Acc:93.12%  Learning Rate:0.000003\tTime 01:06\n",
      " train 198|300 100%  [**************************************************->] Epoch 00198: reducing learning rate of group 0 to 1.5259e-06.\n",
      "Epoch [198/300]  Train Loss:0.000997  Train Acc:100.00% Test Loss:0.308497  Test Acc:93.10%  Learning Rate:0.000003\tTime 01:07\n",
      "Epoch [199/300]  Train Loss:0.001035  Train Acc:100.00% Test Loss:0.316525  Test Acc:93.01%  Learning Rate:0.000002\tTime 01:06\n",
      "Epoch [200/300]  Train Loss:0.001061  Train Acc:100.00% Test Loss:0.311531  Test Acc:93.20%  Learning Rate:0.000002\tTime 01:07\n",
      "Epoch [201/300]  Train Loss:0.001097  Train Acc:99.99% Test Loss:0.333024  Test Acc:92.81%  Learning Rate:0.000002\tTime 01:07\n",
      "Epoch [202/300]  Train Loss:0.001089  Train Acc:99.99% Test Loss:0.320547  Test Acc:92.69%  Learning Rate:0.000002\tTime 01:06\n",
      "Epoch [203/300]  Train Loss:0.001332  Train Acc:99.99% Test Loss:0.325388  Test Acc:92.83%  Learning Rate:0.000002\tTime 01:07\n",
      " train 204|300 100%  [**************************************************->] Epoch 00204: reducing learning rate of group 0 to 1.0000e-06.\n",
      "Epoch [204/300]  Train Loss:0.000980  Train Acc:100.00% Test Loss:0.306504  Test Acc:93.17%  Learning Rate:0.000002\tTime 01:06\n",
      "Epoch [205/300]  Train Loss:0.001092  Train Acc:99.99% Test Loss:0.312591  Test Acc:92.68%  Learning Rate:0.000001\tTime 01:07\n",
      "Epoch [206/300]  Train Loss:0.001122  Train Acc:99.99% Test Loss:0.298793  Test Acc:93.04%  Learning Rate:0.000001\tTime 01:07\n",
      "Epoch [207/300]  Train Loss:0.001118  Train Acc:99.99% Test Loss:0.324506  Test Acc:92.78%  Learning Rate:0.000001\tTime 01:06\n",
      "Epoch [208/300]  Train Loss:0.001097  Train Acc:100.00% Test Loss:0.312539  Test Acc:93.07%  Learning Rate:0.000001\tTime 01:07\n",
      "Epoch [209/300]  Train Loss:0.001028  Train Acc:100.00% Test Loss:0.315510  Test Acc:93.20%  Learning Rate:0.000001\tTime 01:06\n",
      "Epoch [210/300]  Train Loss:0.001037  Train Acc:100.00% Test Loss:0.324218  Test Acc:92.83%  Learning Rate:0.000001\tTime 01:07\n",
      "Epoch [211/300]  Train Loss:0.001038  Train Acc:100.00% Test Loss:0.337091  Test Acc:92.52%  Learning Rate:0.000001\tTime 01:07\n",
      "Epoch [212/300]  Train Loss:0.001192  Train Acc:99.99% Test Loss:0.317459  Test Acc:92.94%  Learning Rate:0.000001\tTime 01:06\n",
      "Epoch [213/300]  Train Loss:0.000994  Train Acc:100.00% Test Loss:0.321520  Test Acc:92.85%  Learning Rate:0.000001\tTime 01:07\n",
      "Epoch [214/300]  Train Loss:0.001067  Train Acc:99.99% Test Loss:0.301040  Test Acc:93.14%  Learning Rate:0.000001\tTime 01:06\n",
      "Epoch [215/300]  Train Loss:0.001165  Train Acc:99.99% Test Loss:0.307903  Test Acc:93.16%  Learning Rate:0.000001\tTime 01:07\n",
      "Epoch [216/300]  Train Loss:0.001038  Train Acc:100.00% Test Loss:0.325798  Test Acc:92.90%  Learning Rate:0.000001\tTime 01:07\n",
      "Epoch [217/300]  Train Loss:0.001036  Train Acc:100.00% Test Loss:0.324960  Test Acc:92.70%  Learning Rate:0.000001\tTime 01:06\n",
      "Epoch [218/300]  Train Loss:0.001032  Train Acc:100.00% Test Loss:0.297958  Test Acc:93.22%  Learning Rate:0.000001\tTime 01:07\n",
      "Epoch [219/300]  Train Loss:0.001051  Train Acc:100.00% Test Loss:0.318403  Test Acc:92.73%  Learning Rate:0.000001\tTime 01:07\n",
      "Epoch [220/300]  Train Loss:0.001036  Train Acc:99.99% Test Loss:0.320814  Test Acc:92.66%  Learning Rate:0.000001\tTime 01:06\n",
      "Epoch [221/300]  Train Loss:0.000926  Train Acc:100.00% Test Loss:0.312647  Test Acc:93.15%  Learning Rate:0.000001\tTime 01:07\n",
      "Epoch [222/300]  Train Loss:0.000980  Train Acc:100.00% Test Loss:0.336547  Test Acc:92.63%  Learning Rate:0.000001\tTime 01:06\n",
      "Epoch [223/300]  Train Loss:0.001177  Train Acc:99.99% Test Loss:0.318995  Test Acc:92.99%  Learning Rate:0.000001\tTime 01:07\n",
      "Epoch [224/300]  Train Loss:0.001091  Train Acc:99.99% Test Loss:0.310586  Test Acc:93.13%  Learning Rate:0.000001\tTime 01:07\n",
      "Epoch [225/300]  Train Loss:0.001023  Train Acc:100.00% Test Loss:0.303819  Test Acc:92.99%  Learning Rate:0.000001\tTime 01:06\n",
      "Epoch [226/300]  Train Loss:0.000985  Train Acc:100.00% Test Loss:0.331017  Test Acc:92.57%  Learning Rate:0.000001\tTime 01:07\n",
      "Epoch [227/300]  Train Loss:0.001001  Train Acc:100.00% Test Loss:0.310789  Test Acc:93.08%  Learning Rate:0.000001\tTime 01:06\n",
      "Epoch [228/300]  Train Loss:0.000955  Train Acc:100.00% Test Loss:0.319595  Test Acc:92.98%  Learning Rate:0.000001\tTime 01:07\n",
      "Epoch [229/300]  Train Loss:0.000950  Train Acc:100.00% Test Loss:0.312611  Test Acc:92.92%  Learning Rate:0.000001\tTime 01:07\n",
      "Epoch [230/300]  Train Loss:0.001068  Train Acc:99.99% Test Loss:0.315763  Test Acc:92.86%  Learning Rate:0.000001\tTime 01:06\n",
      "Epoch [231/300]  Train Loss:0.000955  Train Acc:100.00% Test Loss:0.312171  Test Acc:92.97%  Learning Rate:0.000001\tTime 01:07\n",
      "Epoch [232/300]  Train Loss:0.000979  Train Acc:100.00% Test Loss:0.312751  Test Acc:92.83%  Learning Rate:0.000001\tTime 01:07\n",
      "Epoch [233/300]  Train Loss:0.001006  Train Acc:100.00% Test Loss:0.305093  Test Acc:93.08%  Learning Rate:0.000001\tTime 01:06\n",
      "Epoch [234/300]  Train Loss:0.000992  Train Acc:100.00% Test Loss:0.309525  Test Acc:92.93%  Learning Rate:0.000001\tTime 01:07\n",
      "Epoch [235/300]  Train Loss:0.000991  Train Acc:100.00% Test Loss:0.324944  Test Acc:92.77%  Learning Rate:0.000001\tTime 01:06\n",
      "Epoch [236/300]  Train Loss:0.001058  Train Acc:100.00% Test Loss:0.313197  Test Acc:93.07%  Learning Rate:0.000001\tTime 01:07\n",
      "Epoch [237/300]  Train Loss:0.001006  Train Acc:100.00% Test Loss:0.307330  Test Acc:93.01%  Learning Rate:0.000001\tTime 01:07\n",
      "Epoch [238/300]  Train Loss:0.001005  Train Acc:100.00% Test Loss:0.316394  Test Acc:92.79%  Learning Rate:0.000001\tTime 01:06\n",
      "Epoch [239/300]  Train Loss:0.001028  Train Acc:100.00% Test Loss:0.322128  Test Acc:92.67%  Learning Rate:0.000001\tTime 01:07\n",
      "Epoch [240/300]  Train Loss:0.001108  Train Acc:100.00% Test Loss:0.321962  Test Acc:92.97%  Learning Rate:0.000001\tTime 01:07\n",
      "Epoch [241/300]  Train Loss:0.000992  Train Acc:100.00% Test Loss:0.317208  Test Acc:92.82%  Learning Rate:0.000001\tTime 01:06\n",
      "Epoch [242/300]  Train Loss:0.001109  Train Acc:100.00% Test Loss:0.330541  Test Acc:92.45%  Learning Rate:0.000001\tTime 01:07\n",
      "Epoch [243/300]  Train Loss:0.001005  Train Acc:99.99% Test Loss:0.308691  Test Acc:93.12%  Learning Rate:0.000001\tTime 01:07\n",
      "Epoch [244/300]  Train Loss:0.001051  Train Acc:100.00% Test Loss:0.315472  Test Acc:93.21%  Learning Rate:0.000001\tTime 01:06\n",
      "Epoch [245/300]  Train Loss:0.000972  Train Acc:100.00% Test Loss:0.326622  Test Acc:92.44%  Learning Rate:0.000001\tTime 01:07\n",
      "Epoch [246/300]  Train Loss:0.001245  Train Acc:99.99% Test Loss:0.311580  Test Acc:92.94%  Learning Rate:0.000001\tTime 01:06\n",
      "Epoch [247/300]  Train Loss:0.001007  Train Acc:100.00% Test Loss:0.313048  Test Acc:92.72%  Learning Rate:0.000001\tTime 01:07\n",
      "Epoch [248/300]  Train Loss:0.000944  Train Acc:100.00% Test Loss:0.313165  Test Acc:93.22%  Learning Rate:0.000001\tTime 01:07\n",
      "Epoch [249/300]  Train Loss:0.000938  Train Acc:100.00% Test Loss:0.315072  Test Acc:93.13%  Learning Rate:0.000001\tTime 01:06\n",
      "Epoch [250/300]  Train Loss:0.001066  Train Acc:100.00% Test Loss:0.322747  Test Acc:92.66%  Learning Rate:0.000001\tTime 01:07\n",
      "Epoch [251/300]  Train Loss:0.001058  Train Acc:100.00% Test Loss:0.319350  Test Acc:92.82%  Learning Rate:0.000001\tTime 01:07\n",
      "Epoch [252/300]  Train Loss:0.001002  Train Acc:100.00% Test Loss:0.305431  Test Acc:92.83%  Learning Rate:0.000001\tTime 01:06\n",
      "Epoch [253/300]  Train Loss:0.001069  Train Acc:99.99% Test Loss:0.315731  Test Acc:93.05%  Learning Rate:0.000001\tTime 01:07\n",
      "Epoch [254/300]  Train Loss:0.001032  Train Acc:100.00% Test Loss:0.306804  Test Acc:93.14%  Learning Rate:0.000001\tTime 01:07\n",
      "Epoch [255/300]  Train Loss:0.001000  Train Acc:100.00% Test Loss:0.333127  Test Acc:92.65%  Learning Rate:0.000001\tTime 01:06\n",
      "Epoch [256/300]  Train Loss:0.000989  Train Acc:100.00% Test Loss:0.326237  Test Acc:92.67%  Learning Rate:0.000001\tTime 01:08\n",
      "Epoch [257/300]  Train Loss:0.001041  Train Acc:100.00% Test Loss:0.313759  Test Acc:92.99%  Learning Rate:0.000001\tTime 01:06\n",
      "Epoch [258/300]  Train Loss:0.000998  Train Acc:100.00% Test Loss:0.312155  Test Acc:93.03%  Learning Rate:0.000001\tTime 01:07\n",
      "Epoch [259/300]  Train Loss:0.000995  Train Acc:100.00% Test Loss:0.322075  Test Acc:92.83%  Learning Rate:0.000001\tTime 01:07\n",
      "Epoch [260/300]  Train Loss:0.000954  Train Acc:100.00% Test Loss:0.318456  Test Acc:93.11%  Learning Rate:0.000001\tTime 01:06\n",
      "Epoch [261/300]  Train Loss:0.001001  Train Acc:100.00% Test Loss:0.314753  Test Acc:92.85%  Learning Rate:0.000001\tTime 01:07\n",
      "Epoch [262/300]  Train Loss:0.001089  Train Acc:100.00% Test Loss:0.318937  Test Acc:92.68%  Learning Rate:0.000001\tTime 01:07\n",
      "Epoch [263/300]  Train Loss:0.000967  Train Acc:100.00% Test Loss:0.325518  Test Acc:92.61%  Learning Rate:0.000001\tTime 01:06\n",
      "Epoch [264/300]  Train Loss:0.001056  Train Acc:99.99% Test Loss:0.310011  Test Acc:93.21%  Learning Rate:0.000001\tTime 01:07\n",
      "Epoch [265/300]  Train Loss:0.001044  Train Acc:99.99% Test Loss:0.307430  Test Acc:93.05%  Learning Rate:0.000001\tTime 01:07\n",
      "Epoch [266/300]  Train Loss:0.001026  Train Acc:100.00% Test Loss:0.302419  Test Acc:93.10%  Learning Rate:0.000001\tTime 01:06\n",
      "Epoch [267/300]  Train Loss:0.000999  Train Acc:100.00% Test Loss:0.315626  Test Acc:92.91%  Learning Rate:0.000001\tTime 01:07\n",
      "Epoch [268/300]  Train Loss:0.001001  Train Acc:100.00% Test Loss:0.319061  Test Acc:92.78%  Learning Rate:0.000001\tTime 01:07\n",
      "Epoch [269/300]  Train Loss:0.000957  Train Acc:100.00% Test Loss:0.318832  Test Acc:92.85%  Learning Rate:0.000001\tTime 01:06\n",
      "Epoch [270/300]  Train Loss:0.001114  Train Acc:100.00% Test Loss:0.314511  Test Acc:93.06%  Learning Rate:0.000001\tTime 01:07\n",
      "Epoch [271/300]  Train Loss:0.001066  Train Acc:99.99% Test Loss:0.319504  Test Acc:93.11%  Learning Rate:0.000001\tTime 01:07\n",
      "Epoch [272/300]  Train Loss:0.001067  Train Acc:100.00% Test Loss:0.336755  Test Acc:92.51%  Learning Rate:0.000001\tTime 01:06\n",
      "Epoch [273/300]  Train Loss:0.001023  Train Acc:100.00% Test Loss:0.300726  Test Acc:93.16%  Learning Rate:0.000001\tTime 01:07\n",
      "Epoch [274/300]  Train Loss:0.001095  Train Acc:100.00% Test Loss:0.322061  Test Acc:92.99%  Learning Rate:0.000001\tTime 01:07\n",
      "Epoch [275/300]  Train Loss:0.000983  Train Acc:100.00% Test Loss:0.324360  Test Acc:92.52%  Learning Rate:0.000001\tTime 01:06\n",
      "Epoch [276/300]  Train Loss:0.001175  Train Acc:100.00% Test Loss:0.318122  Test Acc:92.77%  Learning Rate:0.000001\tTime 01:07\n",
      "Epoch [277/300]  Train Loss:0.001029  Train Acc:100.00% Test Loss:0.312833  Test Acc:92.83%  Learning Rate:0.000001\tTime 01:07\n",
      "Epoch [278/300]  Train Loss:0.001024  Train Acc:100.00% Test Loss:0.311040  Test Acc:93.02%  Learning Rate:0.000001\tTime 01:06\n",
      "Epoch [279/300]  Train Loss:0.000985  Train Acc:100.00% Test Loss:0.319952  Test Acc:92.95%  Learning Rate:0.000001\tTime 01:07\n",
      "Epoch [280/300]  Train Loss:0.000987  Train Acc:100.00% Test Loss:0.311365  Test Acc:92.90%  Learning Rate:0.000001\tTime 01:07\n",
      "Epoch [281/300]  Train Loss:0.001020  Train Acc:100.00% Test Loss:0.301029  Test Acc:93.06%  Learning Rate:0.000001\tTime 01:06\n",
      "Epoch [282/300]  Train Loss:0.000944  Train Acc:100.00% Test Loss:0.301797  Test Acc:93.34%  Learning Rate:0.000001\tTime 01:07\n",
      "Epoch [283/300]  Train Loss:0.001034  Train Acc:100.00% Test Loss:0.312571  Test Acc:92.82%  Learning Rate:0.000001\tTime 01:07\n",
      "Epoch [284/300]  Train Loss:0.001122  Train Acc:99.99% Test Loss:0.357677  Test Acc:92.59%  Learning Rate:0.000001\tTime 01:06\n",
      "Epoch [285/300]  Train Loss:0.001121  Train Acc:99.99% Test Loss:0.320818  Test Acc:92.86%  Learning Rate:0.000001\tTime 01:07\n",
      "Epoch [286/300]  Train Loss:0.001044  Train Acc:100.00% Test Loss:0.311148  Test Acc:93.27%  Learning Rate:0.000001\tTime 01:07\n",
      "Epoch [287/300]  Train Loss:0.001002  Train Acc:100.00% Test Loss:0.332360  Test Acc:92.75%  Learning Rate:0.000001\tTime 01:07\n",
      "Epoch [288/300]  Train Loss:0.001096  Train Acc:99.99% Test Loss:0.314934  Test Acc:93.19%  Learning Rate:0.000001\tTime 01:07\n",
      "Epoch [289/300]  Train Loss:0.001068  Train Acc:99.99% Test Loss:0.331373  Test Acc:92.73%  Learning Rate:0.000001\tTime 01:06\n",
      "Epoch [290/300]  Train Loss:0.000978  Train Acc:100.00% Test Loss:0.313216  Test Acc:93.08%  Learning Rate:0.000001\tTime 01:07\n",
      "Epoch [291/300]  Train Loss:0.001074  Train Acc:100.00% Test Loss:0.314253  Test Acc:92.96%  Learning Rate:0.000001\tTime 01:07\n",
      "Epoch [292/300]  Train Loss:0.001027  Train Acc:100.00% Test Loss:0.317566  Test Acc:93.09%  Learning Rate:0.000001\tTime 01:06\n",
      "Epoch [293/300]  Train Loss:0.001080  Train Acc:100.00% Test Loss:0.309558  Test Acc:92.99%  Learning Rate:0.000001\tTime 01:07\n",
      "Epoch [294/300]  Train Loss:0.001069  Train Acc:100.00% Test Loss:0.305486  Test Acc:93.10%  Learning Rate:0.000001\tTime 01:07\n",
      "Epoch [295/300]  Train Loss:0.001110  Train Acc:99.99% Test Loss:0.313243  Test Acc:93.10%  Learning Rate:0.000001\tTime 01:06\n",
      "Epoch [296/300]  Train Loss:0.001094  Train Acc:100.00% Test Loss:0.321909  Test Acc:92.90%  Learning Rate:0.000001\tTime 01:07\n",
      "Epoch [297/300]  Train Loss:0.001015  Train Acc:100.00% Test Loss:0.329429  Test Acc:92.56%  Learning Rate:0.000001\tTime 01:07\n",
      "Epoch [298/300]  Train Loss:0.001156  Train Acc:99.99% Test Loss:0.310979  Test Acc:93.12%  Learning Rate:0.000001\tTime 01:06\n",
      "Epoch [299/300]  Train Loss:0.000993  Train Acc:100.00% Test Loss:0.324210  Test Acc:93.10%  Learning Rate:0.000001\tTime 01:07\n",
      "Epoch [300/300]  Train Loss:0.001017  Train Acc:100.00% Test Loss:0.331692  Test Acc:92.91%  Learning Rate:0.000001\tTime 01:07\n"
     ]
    }
   ]
  },
  {
   "cell_type": "code",
   "source": [
    "plot_history(epoch ,Acc, Loss, Lr)"
   ],
   "metadata": {
    "colab": {
     "base_uri": "https://localhost:8080/",
     "height": 1000
    },
    "id": "gpB1mZb_upBt",
    "executionInfo": {
     "status": "ok",
     "timestamp": 1659991599595,
     "user_tz": -60,
     "elapsed": 1049,
     "user": {
      "displayName": "Zhengyang Jin",
      "userId": "16985034956335242610"
     }
    },
    "outputId": "2f77b086-36ef-4c21-f3ea-a622566bd645",
    "pycharm": {
     "name": "#%%\n"
    }
   },
   "execution_count": 10,
   "outputs": [
    {
     "output_type": "display_data",
     "data": {
      "text/plain": [
       "<Figure size 720x576 with 1 Axes>"
      ],
      "image/png": "[encoded data removed]"
     },
     "metadata": {
      "needs_background": "light"
     }
    },
    {
     "output_type": "display_data",
     "data": {
      "text/plain": [
       "<Figure size 720x576 with 1 Axes>"
      ],
      "image/png": "[encoded data removed]"
     },
     "metadata": {
      "needs_background": "light"
     }
    },
    {
     "output_type": "display_data",
     "data": {
      "text/plain": [
       "<Figure size 720x576 with 1 Axes>"
      ],
      "image/png": "[encoded data removed]"
     },
     "metadata": {
      "needs_background": "light"
     }
    }
   ]
  },
  {
   "cell_type": "code",
   "source": [],
   "metadata": {
    "id": "J1Xa-vbpuo_M",
    "pycharm": {
     "name": "#%%\n"
    }
   },
   "execution_count": null,
   "outputs": []
  },
  {
   "cell_type": "code",
   "source": [],
   "metadata": {
    "id": "r2g4qAiFuo8X",
    "pycharm": {
     "name": "#%%\n"
    }
   },
   "execution_count": null,
   "outputs": []
  },
  {
   "cell_type": "code",
   "source": [],
   "metadata": {
    "id": "ZDjFGna6uo5v",
    "pycharm": {
     "name": "#%%\n"
    }
   },
   "execution_count": null,
   "outputs": []
  },
  {
   "cell_type": "code",
   "source": [],
   "metadata": {
    "id": "7tGf4GZKud70",
    "pycharm": {
     "name": "#%%\n"
    }
   },
   "execution_count": null,
   "outputs": []
  },
  {
   "cell_type": "code",
   "source": [],
   "metadata": {
    "id": "IOKcwGGyud5F",
    "pycharm": {
     "name": "#%%\n"
    }
   },
   "execution_count": null,
   "outputs": []
  },
  {
   "cell_type": "code",
   "source": [],
   "metadata": {
    "id": "hysdjuNbud20",
    "pycharm": {
     "name": "#%%\n"
    }
   },
   "execution_count": null,
   "outputs": []
  },
  {
   "cell_type": "code",
   "source": [],
   "metadata": {
    "id": "DuO0jdISudz9",
    "pycharm": {
     "name": "#%%\n"
    }
   },
   "execution_count": null,
   "outputs": []
  }
 ]
}